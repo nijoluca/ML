{
  "nbformat": 4,
  "nbformat_minor": 0,
  "metadata": {
    "colab": {
      "provenance": [],
      "authorship_tag": "ABX9TyNdKXGdpS2G5Ltu9j9pi/qA",
      "include_colab_link": true
    },
    "kernelspec": {
      "name": "python3",
      "display_name": "Python 3"
    },
    "language_info": {
      "name": "python"
    }
  },
  "cells": [
    {
      "cell_type": "markdown",
      "metadata": {
        "id": "view-in-github",
        "colab_type": "text"
      },
      "source": [
        "<a href=\"https://colab.research.google.com/github/nijoluca/ML/blob/main/PandasNotes.ipynb\" target=\"_parent\"><img src=\"https://colab.research.google.com/assets/colab-badge.svg\" alt=\"Open In Colab\"/></a>"
      ]
    },
    {
      "cell_type": "code",
      "execution_count": null,
      "metadata": {
        "id": "yMK_A7yKDAAM"
      },
      "outputs": [],
      "source": [
        "#"
      ]
    },
    {
      "cell_type": "markdown",
      "source": [
        "staring with pandas"
      ],
      "metadata": {
        "id": "vBtrpU0qDCHy"
      }
    },
    {
      "cell_type": "code",
      "source": [
        "import pandas\n",
        "pandas.__version__"
      ],
      "metadata": {
        "colab": {
          "base_uri": "https://localhost:8080/",
          "height": 35
        },
        "id": "NvRYk8sUDG6Y",
        "outputId": "a1d91da9-fb6d-4038-e230-561b4a3c7d2f"
      },
      "execution_count": null,
      "outputs": [
        {
          "output_type": "execute_result",
          "data": {
            "text/plain": [
              "'2.0.3'"
            ],
            "application/vnd.google.colaboratory.intrinsic+json": {
              "type": "string"
            }
          },
          "metadata": {},
          "execution_count": 1
        }
      ]
    },
    {
      "cell_type": "code",
      "source": [
        "#pandas objects\n",
        "\n",
        "import pandas as pd\n",
        "import numpy as np\n",
        "data=pd.Series([0.5,1,1.5,2,2.5])\n",
        "print(data.dtype)\n",
        "\n",
        "print(\"o----------------------------o\")\n",
        "\n",
        "print(data.values)\n",
        "print(data.index)\n",
        "print(\"o----------------------------o\")\n",
        "\n",
        "#slice applying to pandas data\n",
        "\n",
        "\n",
        "print(data[::2])\n",
        "print(data[1:5])\n",
        "\n",
        "\n",
        "#Series as generalized NumPy array\n",
        "print(\"o----------------------------o\")\n",
        "\n",
        "data2=pd.Series([0.5,1,1.5,2,2.5],index=['a','b','c','d','e'])\n",
        "print(data2)\n",
        "\n",
        "\n",
        "print(\"o----------------------------o\")\n",
        "#Series as specialized dictionary\n",
        "\n",
        "\n",
        "population_index=pd.Series({'Illinois':8080405904050,'NewYork':79040549,'Texa':834903290590,'california':829049})\n",
        "print(population_index)\n",
        "\n",
        "#slicing in dict datas\n",
        "\n",
        "\n",
        "print(\"o----------------------------o\")\n",
        "print(population_index['NewYork':'california'])\n",
        "\n",
        "#page 101\n"
      ],
      "metadata": {
        "colab": {
          "base_uri": "https://localhost:8080/"
        },
        "id": "vd_NnUqkDRv_",
        "outputId": "b97f2a3e-29a1-4160-c34b-6a63a5a7a7af"
      },
      "execution_count": null,
      "outputs": [
        {
          "output_type": "stream",
          "name": "stdout",
          "text": [
            "float64\n",
            "o----------------------------o\n",
            "[0.5 1.  1.5 2.  2.5]\n",
            "RangeIndex(start=0, stop=5, step=1)\n",
            "o----------------------------o\n",
            "0    0.5\n",
            "2    1.5\n",
            "4    2.5\n",
            "dtype: float64\n",
            "1    1.0\n",
            "2    1.5\n",
            "3    2.0\n",
            "4    2.5\n",
            "dtype: float64\n",
            "o----------------------------o\n",
            "a    0.5\n",
            "b    1.0\n",
            "c    1.5\n",
            "d    2.0\n",
            "e    2.5\n",
            "dtype: float64\n",
            "o----------------------------o\n",
            "Illinois      8080405904050\n",
            "NewYork            79040549\n",
            "Texa           834903290590\n",
            "california           829049\n",
            "dtype: int64\n",
            "o----------------------------o\n",
            "NewYork           79040549\n",
            "Texa          834903290590\n",
            "california          829049\n",
            "dtype: int64\n"
          ]
        }
      ]
    },
    {
      "cell_type": "code",
      "source": [
        "#Pandas dataframe introduction\n",
        "\n",
        "population=['Illinois', 'NewYork', 'Texa', 'california']\n",
        "area=[8080405904050,79040549,834903290590,829049]\n",
        "data=pd.DataFrame({'Population':population,'area':area})\n",
        "print(data)\n",
        "print(data.columns)"
      ],
      "metadata": {
        "colab": {
          "base_uri": "https://localhost:8080/"
        },
        "id": "vNLC2MYDUf4d",
        "outputId": "8bd37408-59e4-4f5f-b7b5-117cc3d3f6d2"
      },
      "execution_count": null,
      "outputs": [
        {
          "output_type": "stream",
          "name": "stdout",
          "text": [
            "   Population           area\n",
            "0    Illinois  8080405904050\n",
            "1     NewYork       79040549\n",
            "2        Texa   834903290590\n",
            "3  california         829049\n",
            "Index(['Population', 'area'], dtype='object')\n"
          ]
        }
      ]
    },
    {
      "cell_type": "code",
      "source": [
        "# Constructing DataFrame objects\n",
        "data=pd.DataFrame(population,area,columns=['population'])\n",
        "print(data)"
      ],
      "metadata": {
        "colab": {
          "base_uri": "https://localhost:8080/"
        },
        "id": "fx2S5s-LXj8e",
        "outputId": "72f8274c-9e19-4d8a-f0ea-0dc01a93f1a7"
      },
      "execution_count": null,
      "outputs": [
        {
          "output_type": "stream",
          "name": "stdout",
          "text": [
            "               population\n",
            "8080405904050    Illinois\n",
            "79040549          NewYork\n",
            "834903290590         Texa\n",
            "829049         california\n"
          ]
        }
      ]
    }
  ]
}